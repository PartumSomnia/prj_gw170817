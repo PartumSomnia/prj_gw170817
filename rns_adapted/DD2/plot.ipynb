{
 "cells": [
  {
   "cell_type": "markdown",
   "metadata": {},
   "source": [
    "# Rotating Neutron Star Sequences\n",
    "\n",
    "Visualize properties of RNS sequences\n",
    "\n",
    "Setup notebook"
   ]
  },
  {
   "cell_type": "code",
   "execution_count": null,
   "metadata": {},
   "outputs": [],
   "source": [
    "from itertools import cycle\n",
    "import pandas as pd\n",
    "import matplotlib as mpl\n",
    "import matplotlib.pyplot as plt\n",
    "import numpy as np\n",
    "from scipy.interpolate import griddata, interp1d\n",
    "from scipy.optimize import brentq\n",
    "from itertools import chain"
   ]
  },
  {
   "cell_type": "code",
   "execution_count": null,
   "metadata": {},
   "outputs": [],
   "source": [
    "%matplotlib\n",
    "\n",
    "color_list = mpl.rcParams[\"axes.prop_cycle\"].by_key()[\"color\"]\n",
    "color_cycle = cycle(color_list)"
   ]
  },
  {
   "cell_type": "code",
   "execution_count": null,
   "metadata": {},
   "outputs": [],
   "source": [
    "class Struct(object):\n",
    "    pass"
   ]
  },
  {
   "cell_type": "markdown",
   "metadata": {},
   "source": [
    "Options"
   ]
  },
  {
   "cell_type": "code",
   "execution_count": null,
   "metadata": {},
   "outputs": [],
   "source": [
    "options = Struct()\n",
    "options.nseq = 20"
   ]
  },
  {
   "cell_type": "markdown",
   "metadata": {},
   "source": [
    "## Read the data"
   ]
  },
  {
   "cell_type": "code",
   "execution_count": null,
   "metadata": {},
   "outputs": [],
   "source": [
    "names = ['ratio', 'rho_c', 'M', 'M_0', 'r_star', 'Omega', 'Omega_K', 'I_45', 'a']\n",
    "df = pd.read_csv('data/output.dat', names = names, sep = ' ').sort_values(['rho_c', 'M']) # Data Frame\n",
    "df['diff_Omega'] = np.abs(df['Omega_K'] - df['Omega'])\n",
    "df[\"J\"] = df[\"a\"]*df[\"M\"]**2\n",
    "df['a'] = np.nan_to_num(df['J'] / (df['M'] ** 2)) # Handles 0/0 => 0\n",
    "df = df[df.rho_c > 0.5]\n",
    "rho_c = np.array(sorted(list(df[\"rho_c\"].unique())))"
   ]
  },
  {
   "cell_type": "markdown",
   "metadata": {},
   "source": [
    "## Analysis\n",
    "\n",
    "Find the mass shedding curve"
   ]
  },
  {
   "cell_type": "code",
   "execution_count": null,
   "metadata": {},
   "outputs": [],
   "source": [
    "L = []\n",
    "for rho in rho_c:\n",
    "    sel = df[df.rho_c == rho]\n",
    "    idx = np.ma.masked_invalid(sel[\"diff_Omega\"]).argmin()\n",
    "    L.append(sel.iloc[idx])\n",
    "mass_shedding = pd.DataFrame(L).sort_values([\"rho_c\", \"M\"])\n",
    "\n",
    "imax = np.ma.masked_invalid(mass_shedding[\"M\"]).argmax()\n",
    "rho_K_max = mass_shedding[\"rho_c\"].iloc[imax]\n",
    "M_K_max = mass_shedding[\"M\"].iloc[imax]"
   ]
  },
  {
   "cell_type": "markdown",
   "metadata": {},
   "source": [
    "Construct sequences of constant rho_c"
   ]
  },
  {
   "cell_type": "code",
   "execution_count": null,
   "metadata": {},
   "outputs": [],
   "source": [
    "fig, ax = plt.subplots()\n",
    "\n",
    "for rho in rho_c[::10]:\n",
    "    sel = df[df.rho_c == rho]\n",
    "    ax.plot(sel[\"M\"], sel[\"J\"])\n",
    "ax.set_xlabel(\"$M$\")\n",
    "ax.set_ylabel(\"$J$\")"
   ]
  },
  {
   "cell_type": "markdown",
   "metadata": {},
   "source": [
    "Construct sequences of constant J"
   ]
  },
  {
   "cell_type": "code",
   "execution_count": null,
   "metadata": {},
   "outputs": [],
   "source": [
    "Jseq = np.arange(0, df[\"J\"].max(), df[\"J\"].max()/options.nseq)\n",
    "Mseq = [[] for i in range(options.nseq)]\n",
    "for rho in rho_c:\n",
    "    sel = df[df.rho_c == rho]\n",
    "    for i in range(options.nseq):\n",
    "        Mseq[i].append(np.interp(Jseq[i], sel[\"J\"], sel[\"M\"], left=np.nan, right=np.nan))\n",
    "\n",
    "rho_c_max, M_max = [], []\n",
    "for i in range(options.nseq):\n",
    "    Mseq[i] = np.array(Mseq[i])\n",
    "    imax = np.ma.masked_invalid(Mseq[i]).argmax()\n",
    "    rho_c_max.append(rho_c[imax])\n",
    "    M_max.append(Mseq[i][imax])\n",
    "\n",
    "    \n",
    "\n",
    "fig, ax = plt.subplots()\n",
    "\n",
    "for i in range(options.nseq)[::-1]:\n",
    "    mycolor = color_cycle.next()\n",
    "    ax.plot(rho_c, Mseq[i], color=mycolor)\n",
    "    ax.plot(rho_c_max[i], M_max[i], 'o', color=mycolor)\n",
    "\n",
    "ax.plot(mass_shedding[\"rho_c\"], mass_shedding[\"M\"], 'k-')\n",
    "ax.plot(rho_K_max, M_K_max, 'o', color='black')\n",
    "ax.fill_between(mass_shedding[\"rho_c\"], mass_shedding[\"M\"], 1.5*df[\"M\"].max(), color='grey', alpha=0.15)\n",
    "ax.plot()\n",
    "\n",
    "ax.set_ylim(1.0, 3.0)\n",
    "    \n",
    "ax.set_xlabel(r\"$\\rho_c\\ [10^{15}\\ {\\rm g}\\, {\\rm cm}^{-3}]$\")\n",
    "ax.set_ylabel(r\"$M\\ [M_\\odot]$\")"
   ]
  },
  {
   "cell_type": "code",
   "execution_count": null,
   "metadata": {},
   "outputs": [],
   "source": []
  }
 ],
 "metadata": {
  "kernelspec": {
   "display_name": "Python 2",
   "language": "python",
   "name": "python2"
  },
  "language_info": {
   "codemirror_mode": {
    "name": "ipython",
    "version": 2
   },
   "file_extension": ".py",
   "mimetype": "text/x-python",
   "name": "python",
   "nbconvert_exporter": "python",
   "pygments_lexer": "ipython2",
   "version": "2.7.14"
  }
 },
 "nbformat": 4,
 "nbformat_minor": 2
}
